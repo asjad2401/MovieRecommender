{
  "cells": [
    {
      "cell_type": "code",
      "execution_count": null,
      "metadata": {
        "colab": {
          "base_uri": "https://localhost:8080/"
        },
        "collapsed": true,
        "id": "PxzVRZTLVfAd",
        "outputId": "61b071da-c9e8-4999-d9e9-014a1c5bf711"
      },
      "outputs": [],
      "source": [
        "!pip install torch\n",
        "!pip install tensorflow\n"
      ]
    },
    {
      "cell_type": "code",
      "execution_count": null,
      "metadata": {
        "id": "rrMzjbB2VjpL"
      },
      "outputs": [],
      "source": [
        "import pandas as pd\n",
        "import numpy as np\n",
        "from sklearn import model_selection, metrics, preprocessing\n",
        "import torch\n",
        "import torch.nn as nn\n",
        "import matplotlib.pyplot as plt\n",
        "from torch.utils.data import Dataset, DataLoader"
      ]
    },
    {
      "cell_type": "code",
      "execution_count": null,
      "metadata": {
        "id": "WCi9ZoGwWATI"
      },
      "outputs": [],
      "source": [
        "device = torch.device('cuda' if torch.cuda.is_available() else 'cpu')"
      ]
    },
    {
      "cell_type": "code",
      "execution_count": null,
      "metadata": {
        "id": "KdT4ndjVWE1O"
      },
      "outputs": [],
      "source": [
        "#load data frame\n",
        "df = pd.read_csv(\"/ratings.csv\")"
      ]
    },
    {
      "cell_type": "code",
      "execution_count": null,
      "metadata": {
        "colab": {
          "base_uri": "https://localhost:8080/"
        },
        "id": "ubpavu_xWHTn",
        "outputId": "8ba5852f-3db6-408a-8393-8c46b96568a2"
      },
      "outputs": [],
      "source": [
        "df.info()"
      ]
    },
    {
      "cell_type": "code",
      "execution_count": null,
      "metadata": {
        "colab": {
          "base_uri": "https://localhost:8080/"
        },
        "id": "wRKgHvXdbhoZ",
        "outputId": "392f7ff6-22aa-49f6-eb8b-abe8591e936d"
      },
      "outputs": [],
      "source": [
        "df.userId.nunique()"
      ]
    },
    {
      "cell_type": "code",
      "execution_count": null,
      "metadata": {
        "colab": {
          "base_uri": "https://localhost:8080/"
        },
        "id": "AxRkjXU8bjsp",
        "outputId": "13a0107d-ddf6-47fd-e3d1-5a86255e4a50"
      },
      "outputs": [],
      "source": [
        "df.movieId.nunique()"
      ]
    },
    {
      "cell_type": "code",
      "execution_count": null,
      "metadata": {
        "colab": {
          "base_uri": "https://localhost:8080/"
        },
        "id": "jco5zwilbmgg",
        "outputId": "0665cafb-e206-41b5-f2b0-a6fd25956678"
      },
      "outputs": [],
      "source": [
        "df.rating.value_counts()"
      ]
    },
    {
      "cell_type": "code",
      "execution_count": null,
      "metadata": {
        "colab": {
          "base_uri": "https://localhost:8080/"
        },
        "id": "5XySLzExboEw",
        "outputId": "4ab03894-4909-4d00-e53d-6febf28c371e"
      },
      "outputs": [],
      "source": [
        "df.shape"
      ]
    },
    {
      "cell_type": "code",
      "execution_count": null,
      "metadata": {
        "id": "jHkIaLS6bpwK"
      },
      "outputs": [],
      "source": [
        "#creating dataset and defining methods\n",
        "class MovieDataset:\n",
        "    def __init__(self, users, movies,ratings):\n",
        "        self.users= users\n",
        "        self.movies = movies\n",
        "        self.ratings = ratings\n",
        "\n",
        "    def __len__(self):\n",
        "        return len(self.users)\n",
        "\n",
        "    def __getitem__(self, item):\n",
        "        users = self.users[item]\n",
        "        movies=self.movies[item]\n",
        "        ratings = self.ratings[item]\n",
        "\n",
        "        return {\n",
        "            \"users\": torch.tensor(users, dtype=torch.long),\n",
        "            \"movies\": torch.tensor(movies, dtype=torch.long),\n",
        "            \"ratings\": torch.tensor(ratings, dtype=torch.long)\n",
        "        }"
      ]
    },
    {
      "cell_type": "code",
      "execution_count": null,
      "metadata": {
        "id": "-IGgiAJRbrfY"
      },
      "outputs": [],
      "source": [
        "#defining class for converting features in embeddings\n",
        "class RecSysModel(nn.Module):\n",
        "    def __init__(self, n_users, n_movies):\n",
        "        super().__init__()\n",
        "        self.user_embed = nn.Embedding(n_users, 32)\n",
        "        self.movie_embed = nn.Embedding(n_movies, 32)\n",
        "\n",
        "        self.out = nn.Linear(64,1)\n",
        "\n",
        "    def forward(self, users, movies, ratings=None):\n",
        "        user_embeds = self.user_embed(users)\n",
        "        movie_embeds = self.movie_embed(movies)\n",
        "        output = torch.cat([user_embeds, movie_embeds], dim=1)\n",
        "\n",
        "        output = self.out(output)\n",
        "        return output\n"
      ]
    },
    {
      "cell_type": "code",
      "execution_count": null,
      "metadata": {
        "id": "yUTKPAavbtjX"
      },
      "outputs": [],
      "source": [
        "#defining labels and test/train datasets\n",
        "lbl_user = preprocessing.LabelEncoder()\n",
        "lbl_movie = preprocessing.LabelEncoder()\n",
        "df.userId = lbl_user.fit_transform(df.userId.values)\n",
        "df.movieId = lbl_movie.fit_transform(df.movieId.values)\n",
        "\n",
        "df_train , df_valid = model_selection.train_test_split(df, test_size =0.1, random_state=42,stratify=df.rating.values)\n",
        "\n",
        "train_dataset = MovieDataset(\n",
        "    users = df_train.userId.values,\n",
        "    movies = df_train.movieId.values,\n",
        "    ratings= df_train.rating.values\n",
        ")\n",
        "\n",
        "valid_dataset = MovieDataset(\n",
        "    users = df_valid.userId.values,\n",
        "    movies = df_valid.movieId.values,\n",
        "    ratings= df_valid.rating.values\n",
        ")"
      ]
    },
    {
      "cell_type": "code",
      "execution_count": null,
      "metadata": {
        "colab": {
          "base_uri": "https://localhost:8080/"
        },
        "id": "CA6GCo2Ebv5r",
        "outputId": "c64ac93c-ada7-47c2-f7c3-ba511c36d662"
      },
      "outputs": [],
      "source": [
        "#creating dataloaders\n",
        "train_loader = DataLoader(dataset =train_dataset, batch_size =4, shuffle =True, num_workers=2)\n",
        "validation_loader =DataLoader(dataset= valid_dataset, batch_size=4, shuffle=True, num_workers=2)\n",
        "dataiter = iter(train_loader)\n",
        "dataloader_data = next(dataiter)\n",
        "print(dataloader_data)"
      ]
    },
    {
      "cell_type": "code",
      "execution_count": null,
      "metadata": {
        "id": "kZ9ekQJkc22C"
      },
      "outputs": [],
      "source": [
        "#definng model\n",
        "model = RecSysModel(n_users = len(lbl_user.classes_),\n",
        "                    n_movies= len(lbl_movie.classes_),\n",
        "\n",
        "                    ).to(device)\n",
        "\n",
        "optimizer = torch.optim.Adam(model.parameters(),lr = 0.0009, weight_decay=1e-5)\n",
        "sch = torch.optim.lr_scheduler.StepLR(optimizer, step_size=3, gamma=0.7)\n",
        "loss_func = nn.MSELoss()"
      ]
    },
    {
      "cell_type": "code",
      "execution_count": null,
      "metadata": {
        "colab": {
          "base_uri": "https://localhost:8080/"
        },
        "id": "u6goLCVtjyRb",
        "outputId": "385ad786-cf4b-473f-d9b0-a89f686af9bf"
      },
      "outputs": [],
      "source": [
        "#train model\n",
        "epochs = 1\n",
        "total_loss = 0\n",
        "plot_steps, print_steps = 5000,5000\n",
        "step_cnt =0\n",
        "all_losses_list = []\n",
        "\n",
        "model.train()\n",
        "for epoch_i in range(epochs):\n",
        "  for i, train_data in enumerate(train_loader):\n",
        "    output = model(train_data['users'],\n",
        "                   train_data['movies']\n",
        "                   )\n",
        "    rating = train_data['ratings'].view(4,-1).to(torch.float32)\n",
        "\n",
        "    loss = loss_func(output, rating)\n",
        "    total_loss += loss.sum().item()\n",
        "\n",
        "    optimizer.zero_grad()\n",
        "    loss.backward()\n",
        "    optimizer.step()\n",
        "\n",
        "    step_cnt += len(train_data[\"users\"])\n",
        "    if(step_cnt % plot_steps ==0):\n",
        "      avg_loss = total_loss/(len(train_data[\"users\"]) * plot_steps)\n",
        "      print(f\"epoch {epoch_i} loss at step: {step_cnt} is {avg_loss}\")\n",
        "      all_losses_list.append(avg_loss)\n",
        "      total_loss =0"
      ]
    },
    {
      "cell_type": "code",
      "execution_count": null,
      "metadata": {
        "colab": {
          "base_uri": "https://localhost:8080/",
          "height": 599
        },
        "id": "_4jHSbT1oMZ5",
        "outputId": "9f37b076-ac42-44a3-893f-0a80bbea5c3c"
      },
      "outputs": [],
      "source": [
        "#plot loss curve\n",
        "plt.figure()\n",
        "plt.plot(all_losses_list)\n",
        "plt.show"
      ]
    },
    {
      "cell_type": "code",
      "execution_count": null,
      "metadata": {
        "colab": {
          "base_uri": "https://localhost:8080/"
        },
        "collapsed": true,
        "id": "zk-_FwcEzsQD",
        "outputId": "37df5508-2426-4d6b-b0b3-f06517bb1859"
      },
      "outputs": [],
      "source": [
        "#evaluate model\n",
        "from sklearn.metrics import mean_squared_error\n",
        "\n",
        "model_output_list = []\n",
        "target_rating_list = []\n",
        "model.eval()\n",
        "with torch.no_grad():\n",
        "  for i,batched_data in enumerate(validation_loader):\n",
        "    model_output = model(batched_data['users'],\n",
        "                   batched_data['movies']\n",
        "                   )\n",
        "    model_output_list.append(model_output.sum().item() / len(batched_data['users']))\n",
        "    target_rating = batched_data[\"ratings\"]\n",
        "    target_rating_list.append(target_rating.sum().item() / len(batched_data['users']))\n",
        "\n",
        "    print(f\"model output: {model_output}\")\n",
        "    print(f\"target rating: {target_rating}\")\n",
        "\n",
        "rms = mean_squared_error(target_rating_list, model_output_list, squared=False)\n",
        "print(f\"rms: {rms}\")"
      ]
    },
    {
      "cell_type": "code",
      "execution_count": null,
      "metadata": {
        "colab": {
          "base_uri": "https://localhost:8080/"
        },
        "id": "VAlf2NUe376q",
        "outputId": "2f2fc26b-217e-4533-a6e8-60f9a830fb6c"
      },
      "outputs": [],
      "source": [
        "#evaluate using precision and recall\n",
        "from collections import defaultdict\n",
        "user_est_true = defaultdict(list)\n",
        "\n",
        "with torch.no_grad():\n",
        "  for i, batched_data in enumerate(validation_loader):\n",
        "    users = batched_data['users']\n",
        "    movies = batched_data['movies']\n",
        "    ratings = batched_data['ratings']\n",
        "\n",
        "    model_output = model(batched_data['users'], batched_data['movies'])\n",
        "\n",
        "    for i in range(len(users)):\n",
        "      user_id = users[i].item()\n",
        "      movie_id = movies[i].item()\n",
        "      pred_rating = model_output[i][0].item()\n",
        "      true_rating = ratings[i].item()\n",
        "\n",
        "      print(f\"{user_id}, {movie_id}, {pred_rating}, {true_rating}\")\n",
        "      user_est_true[user_id].append((pred_rating, true_rating))\n",
        "\n"
      ]
    },
    {
      "cell_type": "code",
      "execution_count": null,
      "metadata": {
        "colab": {
          "base_uri": "https://localhost:8080/"
        },
        "id": "rsN4CZMd6QOg",
        "outputId": "e4f373d0-c69f-490a-e07e-5fd4901fd5e2"
      },
      "outputs": [],
      "source": [
        "with torch.no_grad():\n",
        "  precesions = dict()\n",
        "  recalls = dict()\n",
        "\n",
        "  k =10\n",
        "  threshold = 3.5\n",
        "  for uid, user_ratings in user_est_true.items():\n",
        "    user_ratings.sort(key= lambda x : x[0], reverse = True)\n",
        "    n_rel = sum ((true_r>=threshold) for (_, true_r)in user_ratings)\n",
        "\n",
        "    n_rec_k = sum((est>= threshold) for (est,_)in user_ratings[:k])\n",
        "\n",
        "    n_rel_and_rec_k = sum(((true_r>=threshold) and (est>=threshold))\n",
        "                          for (est, true_r) in user_ratings[:k])\n",
        "\n",
        "    print(f\"uid {uid}, n_rel {n_rel}, n_rec_k {n_rec_k}, n_rel_and_rec_k {n_rel_and_rec_k}\")\n",
        "\n",
        "    precesions[uid] = n_rel_and_rec_k / n_rec_k if n_rec_k !=0 else 0\n",
        "    recalls[uid] = n_rel_and_rec_k / n_rel if n_rel !=0 else 0\n"
      ]
    },
    {
      "cell_type": "code",
      "execution_count": null,
      "metadata": {
        "colab": {
          "base_uri": "https://localhost:8080/"
        },
        "id": "d8LrPXi_8qUN",
        "outputId": "099914a8-73b4-493d-9d88-b239b66c8525"
      },
      "outputs": [],
      "source": [
        "print(f\"precsion @ {k}: {sum(prec for prec in precesions.values())/len(precesions)}\")\n",
        "print(f\"recall @ {k}: {sum(rec for rec in recalls.values())/len(recalls)}\")"
      ]
    },
    {
      "cell_type": "code",
      "execution_count": null,
      "metadata": {
        "id": "Y93jp50t9BF5"
      },
      "outputs": [],
      "source": []
    }
  ],
  "metadata": {
    "colab": {
      "provenance": []
    },
    "kernelspec": {
      "display_name": "Python 3",
      "name": "python3"
    },
    "language_info": {
      "name": "python"
    }
  },
  "nbformat": 4,
  "nbformat_minor": 0
}
